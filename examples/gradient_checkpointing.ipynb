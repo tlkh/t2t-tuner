{
 "cells": [
  {
   "cell_type": "markdown",
   "id": "40b35532",
   "metadata": {},
   "source": [
    "## Gradient Checkpointing\n",
    "\n",
    "A simple example (sentiment analysis task) using gradient checkpointing.\n",
    "\n",
    "Gradient checkpointing allows you to train using less VRAM, but at the cost of recomputing activations that are not stored."
   ]
  },
  {
   "cell_type": "code",
   "execution_count": null,
   "id": "28d5930a",
   "metadata": {},
   "outputs": [],
   "source": [
    "import t2t"
   ]
  },
  {
   "cell_type": "code",
   "execution_count": null,
   "id": "4b56b533",
   "metadata": {},
   "outputs": [],
   "source": [
    "trainer_arguments = t2t.TrainerArguments(\n",
    "    # model\n",
    "    model_name_or_path=\"t5-large\",\n",
    "    cache_dir=\"/workspace/cache\",\n",
    "    # data inputs\n",
    "    train_file=\"../sample_data/trainlines.json\",\n",
    "    max_source_length=128,\n",
    "    max_target_length=8,\n",
    "    # taining outputs\n",
    "    output_dir=\"/tmp/saved_model\",\n",
    "    overwrite_output_dir=True,\n",
    "    # training settings\n",
    "    num_train_epochs=1,\n",
    "    per_device_train_batch_size=1,\n",
    "    gradient_accumulation_steps=32,\n",
    "    learning_rate=1e-5,\n",
    "    gradient_checkpointing=True,\n",
    "    prefix=\"predict sentiment: \",\n",
    "    # validation settings\n",
    ")\n",
    "trainer = t2t.Trainer(arguments=trainer_arguments)"
   ]
  },
  {
   "cell_type": "code",
   "execution_count": null,
   "id": "4ce403d0",
   "metadata": {},
   "outputs": [],
   "source": [
    "trainer.model_summary()"
   ]
  },
  {
   "cell_type": "markdown",
   "id": "41d9efbd",
   "metadata": {},
   "source": [
    "### Train Model"
   ]
  },
  {
   "cell_type": "code",
   "execution_count": null,
   "id": "13b9e669",
   "metadata": {},
   "outputs": [],
   "source": [
    "trainer.train(valid=False)"
   ]
  },
  {
   "cell_type": "markdown",
   "id": "22f49220",
   "metadata": {},
   "source": [
    "### Test Model"
   ]
  },
  {
   "cell_type": "code",
   "execution_count": null,
   "id": "da82c332",
   "metadata": {},
   "outputs": [],
   "source": [
    "input_text = \"predict sentiment: This is the worst movie I have ever seen!\"\n",
    "trainer.generate_single(input_text, max_length=8)"
   ]
  },
  {
   "cell_type": "code",
   "execution_count": null,
   "id": "e1d15933",
   "metadata": {},
   "outputs": [],
   "source": [
    "input_text = \"predict sentiment: This is the best movie I have ever seen!\"\n",
    "trainer.generate_single(input_text, max_length=8)"
   ]
  },
  {
   "cell_type": "code",
   "execution_count": null,
   "id": "73cf4e54",
   "metadata": {},
   "outputs": [],
   "source": []
  }
 ],
 "metadata": {
  "kernelspec": {
   "display_name": "Python 3 (ipykernel)",
   "language": "python",
   "name": "python3"
  },
  "language_info": {
   "codemirror_mode": {
    "name": "ipython",
    "version": 3
   },
   "file_extension": ".py",
   "mimetype": "text/x-python",
   "name": "python",
   "nbconvert_exporter": "python",
   "pygments_lexer": "ipython3",
   "version": "3.8.10"
  }
 },
 "nbformat": 4,
 "nbformat_minor": 5
}
