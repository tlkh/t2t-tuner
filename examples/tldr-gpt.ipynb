{
 "cells": [
  {
   "cell_type": "markdown",
   "id": "9978e6ec",
   "metadata": {},
   "source": [
    "## TLDR\n",
    "\n",
    "A simple example (sentiment analysis task)"
   ]
  },
  {
   "cell_type": "code",
   "execution_count": 1,
   "id": "9fbc6390",
   "metadata": {},
   "outputs": [],
   "source": [
    "import t2t"
   ]
  },
  {
   "cell_type": "code",
   "execution_count": 2,
   "id": "26aeb170",
   "metadata": {},
   "outputs": [
    {
     "name": "stdout",
     "output_type": "stream",
     "text": [
      "Training causal Language Model\n",
      "Loading distilgpt2 (for large models, this might take a while)\n",
      "Files will be cached at: /workspace/cache\n",
      "Ensure this directory is persistent if you do not want to download model files again!\n",
      "Loading text dataset\n",
      "keep_linebreaks True\n"
     ]
    },
    {
     "name": "stderr",
     "output_type": "stream",
     "text": [
      "Using custom data configuration default-0bcde2b719600dec\n",
      "Reusing dataset text (/workspace/cache/text/default-0bcde2b719600dec/0.0.0/e16f44aa1b321ece1f87b07977cc5d70be93d69b20486d6dacd62e12cf25c9a5)\n"
     ]
    },
    {
     "data": {
      "application/vnd.jupyter.widget-view+json": {
       "model_id": "4507fa4dc5d8452b8b9bff8286536955",
       "version_major": 2,
       "version_minor": 0
      },
      "text/plain": [
       "  0%|          | 0/1 [00:00<?, ?it/s]"
      ]
     },
     "metadata": {},
     "output_type": "display_data"
    },
    {
     "name": "stdout",
     "output_type": "stream",
     "text": [
      "Auto-split validation set from training set: 10.0 %\n"
     ]
    },
    {
     "name": "stderr",
     "output_type": "stream",
     "text": [
      "Using custom data configuration default-57e036a714c1aab0\n",
      "Reusing dataset text (/workspace/cache/text/default-57e036a714c1aab0/0.0.0/e16f44aa1b321ece1f87b07977cc5d70be93d69b20486d6dacd62e12cf25c9a5)\n",
      "Loading cached split indices for dataset at /workspace/cache/text/default-57e036a714c1aab0/0.0.0/e16f44aa1b321ece1f87b07977cc5d70be93d69b20486d6dacd62e12cf25c9a5/cache-9f15afa515bf754a.arrow and /workspace/cache/text/default-57e036a714c1aab0/0.0.0/e16f44aa1b321ece1f87b07977cc5d70be93d69b20486d6dacd62e12cf25c9a5/cache-8dc6ba7fa3584620.arrow\n"
     ]
    },
    {
     "name": "stdout",
     "output_type": "stream",
     "text": [
      "Distributed training: False\n"
     ]
    }
   ],
   "source": [
    "trainer_arguments = t2t.TrainerArguments(\n",
    "    # model\n",
    "    model_name_or_path=\"distilgpt2\",\n",
    "    cache_dir=\"/workspace/cache\",\n",
    "    # data inputs\n",
    "    train_file=\"../sample_data/trainlines.txt\",\n",
    "    validation_split=0.1,\n",
    "    block_size=512,\n",
    "    # taining outputs\n",
    "    output_dir=\"/tmp/saved_model\",\n",
    "    overwrite_output_dir=True,\n",
    "    # training settings\n",
    "    num_train_epochs=3,\n",
    "    per_device_train_batch_size=24,\n",
    "    gradient_accumulation_steps=1,\n",
    "    learning_rate=1e-5,\n",
    "    gradient_checkpointing=False,\n",
    "    adafactor=False,\n",
    "    fp16=True,\n",
    "    # validation settings\n",
    "    per_device_eval_batch_size=24,\n",
    "    evaluation_strategy=\"epoch\",\n",
    ")\n",
    "trainer = t2t.Trainer(arguments=trainer_arguments)\n",
    "#trainer.freeze(embeddings=True)"
   ]
  },
  {
   "cell_type": "code",
   "execution_count": 3,
   "id": "9a71ce6c",
   "metadata": {},
   "outputs": [
    {
     "name": "stdout",
     "output_type": "stream",
     "text": [
      "Summary\n",
      "=======\n",
      "- model name: distilgpt2\n",
      "- model params:\n",
      "  - train: 81.9 M\n",
      "  - total: 81.9 M\n",
      "  - vocab: 50257\n",
      "- prompt tuning only: False\n"
     ]
    }
   ],
   "source": [
    "trainer.model_summary()"
   ]
  },
  {
   "cell_type": "markdown",
   "id": "60726c68",
   "metadata": {},
   "source": [
    "### Train Model"
   ]
  },
  {
   "cell_type": "code",
   "execution_count": 4,
   "id": "dfa76190",
   "metadata": {},
   "outputs": [
    {
     "data": {
      "application/vnd.jupyter.widget-view+json": {
       "model_id": "08d3b4b85ee64981b92d2f9fd27beb22",
       "version_major": 2,
       "version_minor": 0
      },
      "text/plain": [
       "Running tokenizer on dataset:   0%|          | 0/8 [00:00<?, ?ba/s]"
      ]
     },
     "metadata": {},
     "output_type": "display_data"
    },
    {
     "data": {
      "application/vnd.jupyter.widget-view+json": {
       "model_id": "e797c30064fd45039b041bf78331c63e",
       "version_major": 2,
       "version_minor": 0
      },
      "text/plain": [
       "Running tokenizer on dataset:   0%|          | 0/1 [00:00<?, ?ba/s]"
      ]
     },
     "metadata": {},
     "output_type": "display_data"
    },
    {
     "data": {
      "application/vnd.jupyter.widget-view+json": {
       "model_id": "a453e33ef1174741beac8edde5beefcb",
       "version_major": 2,
       "version_minor": 0
      },
      "text/plain": [
       "Grouping texts in chunks of 512:   0%|          | 0/8 [00:00<?, ?ba/s]"
      ]
     },
     "metadata": {},
     "output_type": "display_data"
    },
    {
     "data": {
      "application/vnd.jupyter.widget-view+json": {
       "model_id": "8f4a5d4925224514a28d489aa0293012",
       "version_major": 2,
       "version_minor": 0
      },
      "text/plain": [
       "Grouping texts in chunks of 512:   0%|          | 0/1 [00:00<?, ?ba/s]"
      ]
     },
     "metadata": {},
     "output_type": "display_data"
    },
    {
     "name": "stderr",
     "output_type": "stream",
     "text": [
      "Using amp fp16 backend\n",
      "***** Running training *****\n",
      "  Num examples = 3279\n",
      "  Num Epochs = 3\n",
      "  Instantaneous batch size per device = 24\n",
      "  Total train batch size (w. parallel, distributed & accumulation) = 24\n",
      "  Gradient Accumulation steps = 1\n",
      "  Total optimization steps = 411\n"
     ]
    },
    {
     "data": {
      "text/html": [
       "\n",
       "    <div>\n",
       "      \n",
       "      <progress value='411' max='411' style='width:300px; height:20px; vertical-align: middle;'></progress>\n",
       "      [411/411 02:23, Epoch 3/3]\n",
       "    </div>\n",
       "    <table border=\"1\" class=\"dataframe\">\n",
       "  <thead>\n",
       "    <tr style=\"text-align: left;\">\n",
       "      <th>Epoch</th>\n",
       "      <th>Training Loss</th>\n",
       "      <th>Validation Loss</th>\n",
       "    </tr>\n",
       "  </thead>\n",
       "  <tbody>\n",
       "    <tr>\n",
       "      <td>1</td>\n",
       "      <td>3.959400</td>\n",
       "      <td>3.808030</td>\n",
       "    </tr>\n",
       "    <tr>\n",
       "      <td>2</td>\n",
       "      <td>3.873800</td>\n",
       "      <td>3.790116</td>\n",
       "    </tr>\n",
       "    <tr>\n",
       "      <td>3</td>\n",
       "      <td>3.857100</td>\n",
       "      <td>3.785381</td>\n",
       "    </tr>\n",
       "  </tbody>\n",
       "</table><p>"
      ],
      "text/plain": [
       "<IPython.core.display.HTML object>"
      ]
     },
     "metadata": {},
     "output_type": "display_data"
    },
    {
     "name": "stderr",
     "output_type": "stream",
     "text": [
      "***** Running Evaluation *****\n",
      "  Num examples = 367\n",
      "  Batch size = 24\n",
      "Saving model checkpoint to /tmp/saved_model/checkpoint-137\n",
      "Configuration saved in /tmp/saved_model/checkpoint-137/config.json\n",
      "Model weights saved in /tmp/saved_model/checkpoint-137/pytorch_model.bin\n",
      "tokenizer config file saved in /tmp/saved_model/checkpoint-137/tokenizer_config.json\n",
      "Special tokens file saved in /tmp/saved_model/checkpoint-137/special_tokens_map.json\n",
      "Deleting older checkpoint [/tmp/saved_model/checkpoint-26] due to args.save_total_limit\n",
      "***** Running Evaluation *****\n",
      "  Num examples = 367\n",
      "  Batch size = 24\n",
      "Saving model checkpoint to /tmp/saved_model/checkpoint-274\n",
      "Configuration saved in /tmp/saved_model/checkpoint-274/config.json\n",
      "Model weights saved in /tmp/saved_model/checkpoint-274/pytorch_model.bin\n",
      "tokenizer config file saved in /tmp/saved_model/checkpoint-274/tokenizer_config.json\n",
      "Special tokens file saved in /tmp/saved_model/checkpoint-274/special_tokens_map.json\n",
      "Deleting older checkpoint [/tmp/saved_model/checkpoint-52] due to args.save_total_limit\n",
      "***** Running Evaluation *****\n",
      "  Num examples = 367\n",
      "  Batch size = 24\n",
      "Saving model checkpoint to /tmp/saved_model/checkpoint-411\n",
      "Configuration saved in /tmp/saved_model/checkpoint-411/config.json\n",
      "Model weights saved in /tmp/saved_model/checkpoint-411/pytorch_model.bin\n",
      "tokenizer config file saved in /tmp/saved_model/checkpoint-411/tokenizer_config.json\n",
      "Special tokens file saved in /tmp/saved_model/checkpoint-411/special_tokens_map.json\n",
      "Deleting older checkpoint [/tmp/saved_model/checkpoint-137] due to args.save_total_limit\n",
      "\n",
      "\n",
      "Training completed. Do not forget to share your model on huggingface.co/models =)\n",
      "\n",
      "\n",
      "Saving model checkpoint to /tmp/saved_model\n",
      "Configuration saved in /tmp/saved_model/config.json\n",
      "Model weights saved in /tmp/saved_model/pytorch_model.bin\n",
      "tokenizer config file saved in /tmp/saved_model/tokenizer_config.json\n",
      "Special tokens file saved in /tmp/saved_model/special_tokens_map.json\n"
     ]
    },
    {
     "name": "stdout",
     "output_type": "stream",
     "text": [
      "***** train metrics *****\n",
      "  epoch                    =        3.0\n",
      "  total_flos               =  1196924GF\n",
      "  train_loss               =     3.8968\n",
      "  train_runtime            = 0:02:23.96\n",
      "  train_samples            =       3279\n",
      "  train_samples_per_second =      68.33\n",
      "  train_steps_per_second   =      2.855\n"
     ]
    }
   ],
   "source": [
    "trainer.train(valid=True)"
   ]
  },
  {
   "cell_type": "markdown",
   "id": "01e1c057",
   "metadata": {},
   "source": [
    "### Test Model"
   ]
  },
  {
   "cell_type": "code",
   "execution_count": 5,
   "id": "0118e206",
   "metadata": {},
   "outputs": [
    {
     "name": "stderr",
     "output_type": "stream",
     "text": [
      "Setting `pad_token_id` to `eos_token_id`:50256 for open-end generation.\n"
     ]
    },
    {
     "data": {
      "text/plain": [
       "'<start> This is the worst movie I have ever seen! <end> SENTIMENT: ***********'"
      ]
     },
     "execution_count": 5,
     "metadata": {},
     "output_type": "execute_result"
    }
   ],
   "source": [
    "input_text = \"<start> This is the worst movie I have ever seen! <end> SENTIMENT: \"\n",
    "trainer.generate_single(input_text, max_length=128).split(\" <end><start>\")[0]"
   ]
  },
  {
   "cell_type": "code",
   "execution_count": 6,
   "id": "5a300f2b",
   "metadata": {},
   "outputs": [
    {
     "name": "stderr",
     "output_type": "stream",
     "text": [
      "Setting `pad_token_id` to `eos_token_id`:50256 for open-end generation.\n"
     ]
    },
    {
     "data": {
      "text/plain": [
       "'<start> This is the best movie I have ever seen! <end> SENTIMENT: ***********'"
      ]
     },
     "execution_count": 6,
     "metadata": {},
     "output_type": "execute_result"
    }
   ],
   "source": [
    "input_text = \"<start> This is the best movie I have ever seen! <end> SENTIMENT: \"\n",
    "trainer.generate_single(input_text, max_length=128).split(\" <end><start>\")[0]"
   ]
  },
  {
   "cell_type": "markdown",
   "id": "3523ca41",
   "metadata": {},
   "source": [
    "## "
   ]
  }
 ],
 "metadata": {
  "kernelspec": {
   "display_name": "Python 3 (ipykernel)",
   "language": "python",
   "name": "python3"
  },
  "language_info": {
   "codemirror_mode": {
    "name": "ipython",
    "version": 3
   },
   "file_extension": ".py",
   "mimetype": "text/x-python",
   "name": "python",
   "nbconvert_exporter": "python",
   "pygments_lexer": "ipython3",
   "version": "3.8.10"
  }
 },
 "nbformat": 4,
 "nbformat_minor": 5
}
