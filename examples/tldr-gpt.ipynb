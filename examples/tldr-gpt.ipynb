{
 "cells": [
  {
   "cell_type": "markdown",
   "id": "92649468",
   "metadata": {},
   "source": [
    "## TLDR\n",
    "\n",
    "A simple example (sentiment analysis task)"
   ]
  },
  {
   "cell_type": "code",
   "execution_count": null,
   "id": "702074fb",
   "metadata": {},
   "outputs": [],
   "source": [
    "import t2t"
   ]
  },
  {
   "cell_type": "code",
   "execution_count": null,
   "id": "dd6557d4",
   "metadata": {},
   "outputs": [],
   "source": [
    "trainer_arguments = t2t.TrainerArguments(\n",
    "    # model\n",
    "    model_name_or_path=\"gpt2-xl\",\n",
    "    cache_dir=\"/workspace/cache\",\n",
    "    # data inputs\n",
    "    train_file=\"../sample_data/trainlines.txt\",\n",
    "    validation_file=\"../sample_data/validlines.txt\",\n",
    "    block_size=512,\n",
    "    # taining outputs\n",
    "    output_dir=\"/tmp/saved_model\",\n",
    "    overwrite_output_dir=True,\n",
    "    # training settings\n",
    "    num_train_epochs=2,\n",
    "    per_device_train_batch_size=1,\n",
    "    gradient_accumulation_steps=2,\n",
    "    learning_rate=1e-5,\n",
    "    gradient_checkpointing=False,\n",
    "    adafactor=True,\n",
    "    fp16=True,\n",
    "    # validation settings\n",
    "    per_device_eval_batch_size=1,\n",
    "    evaluation_strategy=\"epoch\",\n",
    ")\n",
    "trainer = t2t.Trainer(arguments=trainer_arguments)\n",
    "#trainer.freeze(embeddings=True)"
   ]
  },
  {
   "cell_type": "code",
   "execution_count": null,
   "id": "ca30f534",
   "metadata": {},
   "outputs": [],
   "source": [
    "trainer.model_summary()"
   ]
  },
  {
   "cell_type": "markdown",
   "id": "8a53f1b0",
   "metadata": {},
   "source": [
    "### Train Model"
   ]
  },
  {
   "cell_type": "code",
   "execution_count": null,
   "id": "246bb61d",
   "metadata": {},
   "outputs": [],
   "source": [
    "trainer.train(valid=True)"
   ]
  },
  {
   "cell_type": "markdown",
   "id": "a23f0625",
   "metadata": {},
   "source": [
    "### Test Model"
   ]
  },
  {
   "cell_type": "code",
   "execution_count": null,
   "id": "bba2f8bd",
   "metadata": {},
   "outputs": [],
   "source": [
    "input_text = \"<start> This is the worst movie I have ever seen! <end> SENTIMENT: \"\n",
    "trainer.generate_single(input_text, max_length=128).split(\" <end><start>\")[0]"
   ]
  },
  {
   "cell_type": "code",
   "execution_count": null,
   "id": "fc9ddff3",
   "metadata": {},
   "outputs": [],
   "source": [
    "input_text = \"<start> This is the best movie I have ever seen! <end> SENTIMENT: \"\n",
    "trainer.generate_single(input_text, max_length=128).split(\" <end><start>\")[0]"
   ]
  },
  {
   "cell_type": "markdown",
   "id": "cc45eb31",
   "metadata": {},
   "source": [
    "## "
   ]
  }
 ],
 "metadata": {
  "kernelspec": {
   "display_name": "Python 3 (ipykernel)",
   "language": "python",
   "name": "python3"
  },
  "language_info": {
   "codemirror_mode": {
    "name": "ipython",
    "version": 3
   },
   "file_extension": ".py",
   "mimetype": "text/x-python",
   "name": "python",
   "nbconvert_exporter": "python",
   "pygments_lexer": "ipython3",
   "version": "3.8.10"
  }
 },
 "nbformat": 4,
 "nbformat_minor": 5
}
