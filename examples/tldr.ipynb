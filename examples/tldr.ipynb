{
 "cells": [
  {
   "cell_type": "markdown",
   "metadata": {},
   "source": [
    "## TLDR\n",
    "\n",
    "A simple example (sentiment analysis task)"
   ]
  },
  {
   "cell_type": "code",
   "execution_count": 1,
   "metadata": {},
   "outputs": [],
   "source": [
    "import t2t"
   ]
  },
  {
   "cell_type": "code",
   "execution_count": 2,
   "metadata": {},
   "outputs": [
    {
     "name": "stdout",
     "output_type": "stream",
     "text": [
      "Set TrainingArguments.mode to seq2seq\n",
      "Loading t5-3b (for large models, this might take a while)\n",
      "Files will be cached at: /workspace/cache\n",
      "Ensure this directory is persistent if you do not want to download model files again!\n"
     ]
    },
    {
     "name": "stderr",
     "output_type": "stream",
     "text": [
      "Using custom data configuration default-ddac0f997dfe0137\n",
      "Reusing dataset json (/workspace/cache/json/default-ddac0f997dfe0137/0.0.0/d75ead8d5cfcbe67495df0f89bd262f0023257fbbbd94a730313295f3d756d50)\n"
     ]
    },
    {
     "data": {
      "application/vnd.jupyter.widget-view+json": {
       "model_id": "504147a206ce4432aefefe5dcca66211",
       "version_major": 2,
       "version_minor": 0
      },
      "text/plain": [
       "HBox(children=(HTML(value=''), FloatProgress(value=0.0, max=2.0), HTML(value='')))"
      ]
     },
     "metadata": {},
     "output_type": "display_data"
    },
    {
     "name": "stdout",
     "output_type": "stream",
     "text": [
      "\n"
     ]
    }
   ],
   "source": [
    "trainer_arguments = t2t.TrainerArguments(\n",
    "    # model\n",
    "    model_name_or_path=\"t5-3b\",\n",
    "    cache_dir=\"/workspace/cache\",\n",
    "    # data inputs\n",
    "    train_file=\"../sample_data/trainlines.json\",\n",
    "    validation_file=\"../sample_data/validlines.json\",\n",
    "    max_source_length=8,\n",
    "    max_target_length=8,\n",
    "    # taining outputs\n",
    "    output_dir=\"/tmp/saved_model\",\n",
    "    overwrite_output_dir=True,\n",
    "    # training settings\n",
    "    num_train_epochs=1,\n",
    "    per_device_train_batch_size=1,\n",
    "    learning_rate=1e-5,\n",
    "    gradient_checkpointing=True,\n",
    "    prefix=\"predict sentiment: \",\n",
    "    # validation settings\n",
    "    per_device_eval_batch_size=1,\n",
    "    evaluation_strategy=\"epoch\",\n",
    ")\n",
    "trainer = t2t.Trainer(arguments=trainer_arguments)"
   ]
  },
  {
   "cell_type": "code",
   "execution_count": 3,
   "metadata": {},
   "outputs": [],
   "source": [
    "trainer.freeze(embeddings=True,\n",
    "             encoder=True,\n",
    "             decoder=False)"
   ]
  },
  {
   "cell_type": "code",
   "execution_count": 4,
   "metadata": {},
   "outputs": [
    {
     "name": "stdout",
     "output_type": "stream",
     "text": [
      "Summary\n",
      "=======\n",
      "- model name: t5-3b\n",
      "- model params:\n",
      "  - train: 1610.7 M\n",
      "  - total: 2851.6 M\n",
      "  - vocab: 32100\n",
      "- prompt tuning only: False\n"
     ]
    }
   ],
   "source": [
    "trainer.model_summary()"
   ]
  },
  {
   "cell_type": "markdown",
   "metadata": {},
   "source": [
    "### Train Model"
   ]
  },
  {
   "cell_type": "code",
   "execution_count": 5,
   "metadata": {},
   "outputs": [],
   "source": [
    "import time"
   ]
  },
  {
   "cell_type": "code",
   "execution_count": 6,
   "metadata": {},
   "outputs": [
    {
     "data": {
      "application/vnd.jupyter.widget-view+json": {
       "model_id": "2243b141350d42e88b8abfac277bdebf",
       "version_major": 2,
       "version_minor": 0
      },
      "text/plain": [
       "HBox(children=(HTML(value='Running tokenizer on train dataset'), FloatProgress(value=0.0, max=8.0), HTML(value…"
      ]
     },
     "metadata": {},
     "output_type": "display_data"
    },
    {
     "name": "stdout",
     "output_type": "stream",
     "text": [
      "\n"
     ]
    },
    {
     "data": {
      "application/vnd.jupyter.widget-view+json": {
       "model_id": "9e8208f7aab64da680001af734aeb200",
       "version_major": 2,
       "version_minor": 0
      },
      "text/plain": [
       "HBox(children=(HTML(value='Running tokenizer on validation dataset'), FloatProgress(value=0.0, max=3.0), HTML(…"
      ]
     },
     "metadata": {},
     "output_type": "display_data"
    },
    {
     "name": "stdout",
     "output_type": "stream",
     "text": [
      "\n"
     ]
    },
    {
     "name": "stderr",
     "output_type": "stream",
     "text": [
      "***** Running training *****\n",
      "  Num examples = 8000\n",
      "  Num Epochs = 1\n",
      "  Instantaneous batch size per device = 1\n",
      "  Total train batch size (w. parallel, distributed & accumulation) = 1\n",
      "  Gradient Accumulation steps = 1\n",
      "  Total optimization steps = 8000\n",
      "/opt/conda/lib/python3.8/site-packages/torch/utils/checkpoint.py:25: UserWarning: None of the inputs have requires_grad=True. Gradients will be None\n",
      "  warnings.warn(\"None of the inputs have requires_grad=True. Gradients will be None\")\n"
     ]
    },
    {
     "data": {
      "text/html": [
       "\n",
       "    <div>\n",
       "      \n",
       "      <progress value='8000' max='8000' style='width:300px; height:20px; vertical-align: middle;'></progress>\n",
       "      [8000/8000 09:22, Epoch 1/1]\n",
       "    </div>\n",
       "    <table border=\"1\" class=\"dataframe\">\n",
       "  <thead>\n",
       "    <tr style=\"text-align: left;\">\n",
       "      <th>Epoch</th>\n",
       "      <th>Training Loss</th>\n",
       "      <th>Validation Loss</th>\n",
       "      <th>Bleu</th>\n",
       "      <th>Gen Len</th>\n",
       "    </tr>\n",
       "  </thead>\n",
       "  <tbody>\n",
       "    <tr>\n",
       "      <td>1</td>\n",
       "      <td>7.657900</td>\n",
       "      <td>3.040773</td>\n",
       "      <td>0.000000</td>\n",
       "      <td>5.000000</td>\n",
       "    </tr>\n",
       "  </tbody>\n",
       "</table><p>"
      ],
      "text/plain": [
       "<IPython.core.display.HTML object>"
      ]
     },
     "metadata": {},
     "output_type": "display_data"
    },
    {
     "name": "stderr",
     "output_type": "stream",
     "text": [
      "***** Running Evaluation *****\n",
      "  Num examples = 2001\n",
      "  Batch size = 1\n",
      "Saving model checkpoint to /tmp/saved_model/checkpoint-8000\n",
      "Configuration saved in /tmp/saved_model/checkpoint-8000/config.json\n",
      "Model weights saved in /tmp/saved_model/checkpoint-8000/pytorch_model.bin\n",
      "tokenizer config file saved in /tmp/saved_model/checkpoint-8000/tokenizer_config.json\n",
      "Special tokens file saved in /tmp/saved_model/checkpoint-8000/special_tokens_map.json\n",
      "Copy vocab file to /tmp/saved_model/checkpoint-8000/spiece.model\n",
      "Deleting older checkpoint [/tmp/saved_model/checkpoint-126] due to args.save_total_limit\n",
      "\n",
      "\n",
      "Training completed. Do not forget to share your model on huggingface.co/models =)\n",
      "\n",
      "\n",
      "Saving model checkpoint to /tmp/saved_model\n",
      "Configuration saved in /tmp/saved_model/config.json\n",
      "Model weights saved in /tmp/saved_model/pytorch_model.bin\n",
      "tokenizer config file saved in /tmp/saved_model/tokenizer_config.json\n",
      "Special tokens file saved in /tmp/saved_model/special_tokens_map.json\n",
      "Copy vocab file to /tmp/saved_model/spiece.model\n"
     ]
    },
    {
     "name": "stdout",
     "output_type": "stream",
     "text": [
      "***** train metrics *****\n",
      "  epoch                    =        1.0\n",
      "  total_flos               =  1260055GF\n",
      "  train_loss               =     7.6579\n",
      "  train_runtime            = 0:09:22.27\n",
      "  train_samples            =       8000\n",
      "  train_samples_per_second =     14.228\n",
      "  train_steps_per_second   =     14.228\n"
     ]
    }
   ],
   "source": [
    "st = time.time()\n",
    "trainer.train(valid=True)\n",
    "et = time.time()"
   ]
  },
  {
   "cell_type": "code",
   "execution_count": 7,
   "metadata": {},
   "outputs": [
    {
     "name": "stdout",
     "output_type": "stream",
     "text": [
      "Time taken: 628 seconds\n"
     ]
    }
   ],
   "source": [
    "print(\"Time taken:\", int(et-st), \"seconds\")"
   ]
  },
  {
   "cell_type": "markdown",
   "metadata": {},
   "source": [
    "### Test Model"
   ]
  },
  {
   "cell_type": "code",
   "execution_count": 8,
   "metadata": {},
   "outputs": [
    {
     "data": {
      "text/plain": [
       "'unacceptable'"
      ]
     },
     "execution_count": 8,
     "metadata": {},
     "output_type": "execute_result"
    }
   ],
   "source": [
    "input_text = \"predict sentiment: This is the worst movie I have ever seen!\"\n",
    "trainer.generate_single(input_text, max_length=8)"
   ]
  },
  {
   "cell_type": "code",
   "execution_count": 9,
   "metadata": {},
   "outputs": [
    {
     "data": {
      "text/plain": [
       "'unacceptable'"
      ]
     },
     "execution_count": 9,
     "metadata": {},
     "output_type": "execute_result"
    }
   ],
   "source": [
    "input_text = \"predict sentiment: This is the best movie I have ever seen!\"\n",
    "trainer.generate_single(input_text, max_length=8)"
   ]
  },
  {
   "cell_type": "code",
   "execution_count": null,
   "metadata": {},
   "outputs": [],
   "source": []
  }
 ],
 "metadata": {
  "kernelspec": {
   "display_name": "Python 3",
   "language": "python",
   "name": "python3"
  },
  "language_info": {
   "codemirror_mode": {
    "name": "ipython",
    "version": 3
   },
   "file_extension": ".py",
   "mimetype": "text/x-python",
   "name": "python",
   "nbconvert_exporter": "python",
   "pygments_lexer": "ipython3",
   "version": "3.8.5"
  }
 },
 "nbformat": 4,
 "nbformat_minor": 5
}
