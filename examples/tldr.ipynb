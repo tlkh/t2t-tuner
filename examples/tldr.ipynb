{
 "cells": [
  {
   "cell_type": "markdown",
   "id": "c0a851d7",
   "metadata": {},
   "source": [
    "## TLDR\n",
    "\n",
    "A simple example (sentiment analysis task)"
   ]
  },
  {
   "cell_type": "code",
   "execution_count": null,
   "id": "b905b1a6",
   "metadata": {},
   "outputs": [],
   "source": [
    "import t2t"
   ]
  },
  {
   "cell_type": "code",
   "execution_count": null,
   "id": "dbc4d736",
   "metadata": {},
   "outputs": [],
   "source": [
    "trainer_arguments = t2t.TrainerArguments(\n",
    "    # model\n",
    "    model_name_or_path=\"t5-3b\",\n",
    "    cache_dir=\"/workspace/cache\",\n",
    "    # data inputs\n",
    "    train_file=\"../sample_data/trainlines.json\",\n",
    "    validation_file=\"../sample_data/validlines.json\",\n",
    "    max_source_length=128,\n",
    "    max_target_length=128,\n",
    "    # taining outputs\n",
    "    output_dir=\"/tmp/saved_model\",\n",
    "    overwrite_output_dir=True,\n",
    "    # training settings\n",
    "    num_train_epochs=1,\n",
    "    per_device_train_batch_size=1,\n",
    "    gradient_accumulation_steps=1,\n",
    "    learning_rate=1e-5,\n",
    "    prefix=\"predict sentiment: \",\n",
    "    gradient_checkpointing=False,\n",
    "    adafactor=False,\n",
    "    # validation settings\n",
    "    per_device_eval_batch_size=1,\n",
    "    evaluation_strategy=\"epoch\",\n",
    ")\n",
    "trainer = t2t.Trainer(arguments=trainer_arguments)\n",
    "#trainer.freeze(embeddings=True)"
   ]
  },
  {
   "cell_type": "code",
   "execution_count": null,
   "id": "aaa889d4",
   "metadata": {},
   "outputs": [],
   "source": [
    "trainer.model_summary()"
   ]
  },
  {
   "cell_type": "markdown",
   "id": "83194a3e",
   "metadata": {},
   "source": [
    "### Train Model"
   ]
  },
  {
   "cell_type": "code",
   "execution_count": null,
   "id": "b223f088",
   "metadata": {},
   "outputs": [],
   "source": [
    "trainer.train(valid=True)"
   ]
  },
  {
   "cell_type": "markdown",
   "id": "7de9bedc",
   "metadata": {},
   "source": [
    "### Test Model"
   ]
  },
  {
   "cell_type": "code",
   "execution_count": null,
   "id": "8323d370",
   "metadata": {},
   "outputs": [],
   "source": [
    "input_text = \"predict sentiment: This is the worst movie I have ever seen!\"\n",
    "trainer.generate_single(input_text, max_length=8)"
   ]
  },
  {
   "cell_type": "code",
   "execution_count": null,
   "id": "19e0e523",
   "metadata": {},
   "outputs": [],
   "source": [
    "input_text = \"predict sentiment: This is the best movie I have ever seen!\"\n",
    "trainer.generate_single(input_text, max_length=8)"
   ]
  },
  {
   "cell_type": "code",
   "execution_count": null,
   "id": "5cd54541",
   "metadata": {},
   "outputs": [],
   "source": []
  }
 ],
 "metadata": {
  "kernelspec": {
   "display_name": "Python 3 (ipykernel)",
   "language": "python",
   "name": "python3"
  },
  "language_info": {
   "codemirror_mode": {
    "name": "ipython",
    "version": 3
   },
   "file_extension": ".py",
   "mimetype": "text/x-python",
   "name": "python",
   "nbconvert_exporter": "python",
   "pygments_lexer": "ipython3",
   "version": "3.8.10"
  }
 },
 "nbformat": 4,
 "nbformat_minor": 5
}
