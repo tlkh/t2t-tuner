{
 "cells": [
  {
   "cell_type": "markdown",
   "id": "a3d78a86",
   "metadata": {},
   "source": [
    "## TLDR\n",
    "\n",
    "A simple example (sentiment analysis task)"
   ]
  },
  {
   "cell_type": "code",
   "execution_count": 1,
   "id": "dbfa10b2",
   "metadata": {},
   "outputs": [],
   "source": [
    "import t2t"
   ]
  },
  {
   "cell_type": "code",
   "execution_count": 2,
   "id": "666ea05e",
   "metadata": {},
   "outputs": [
    {
     "name": "stderr",
     "output_type": "stream",
     "text": [
      "Using custom data configuration default-364cfa96496637f3\n",
      "Reusing dataset json (../cache/json/default-364cfa96496637f3/0.0.0/d75ead8d5cfcbe67495df0f89bd262f0023257fbbbd94a730313295f3d756d50)\n"
     ]
    },
    {
     "data": {
      "application/vnd.jupyter.widget-view+json": {
       "model_id": "eb267d366df0417f8c707a5d534e613b",
       "version_major": 2,
       "version_minor": 0
      },
      "text/plain": [
       "  0%|          | 0/2 [00:00<?, ?it/s]"
      ]
     },
     "metadata": {},
     "output_type": "display_data"
    }
   ],
   "source": [
    "trainer_arguments = t2t.TrainerArguments(\n",
    "    # model\n",
    "    model_name_or_path=\"t5-small\",\n",
    "    cache_dir=\"../cache\",\n",
    "    # data inputs\n",
    "    train_file=\"../sample_data/trainlines.json\",\n",
    "    validation_file=\"../sample_data/validlines.json\",\n",
    "    max_source_length=128,\n",
    "    max_target_length=8,\n",
    "    # taining outputs\n",
    "    output_dir=\"/tmp/saved_model\",\n",
    "    overwrite_output_dir=True,\n",
    "    # training settings\n",
    "    num_train_epochs=5,\n",
    "    per_device_train_batch_size=128,\n",
    "    learning_rate=1e-5,\n",
    "    prefix=\"predict sentiment: \",\n",
    "    # validation settings\n",
    "    per_device_eval_batch_size=128,\n",
    "    evaluation_strategy=\"epoch\",\n",
    ")\n",
    "trainer = t2t.Trainer(arguments=trainer_arguments)"
   ]
  },
  {
   "cell_type": "code",
   "execution_count": 3,
   "id": "7be94677",
   "metadata": {},
   "outputs": [
    {
     "name": "stdout",
     "output_type": "stream",
     "text": [
      "Summary\n",
      "=======\n",
      "- model name: t5-small\n",
      "- model params:\n",
      "  - train: 60.5 M\n",
      "  - total: 60.5 M\n",
      "  - vocab: 32100\n",
      "- prompt tuning only: False\n"
     ]
    }
   ],
   "source": [
    "trainer.model_summary()"
   ]
  },
  {
   "cell_type": "markdown",
   "id": "a97f92ba",
   "metadata": {},
   "source": [
    "### Train Model"
   ]
  },
  {
   "cell_type": "code",
   "execution_count": 4,
   "id": "bf9c8ddb",
   "metadata": {},
   "outputs": [
    {
     "data": {
      "application/vnd.jupyter.widget-view+json": {
       "model_id": "520d5df246424c78998c0533c9fe192e",
       "version_major": 2,
       "version_minor": 0
      },
      "text/plain": [
       "Running tokenizer on train dataset:   0%|          | 0/8 [00:00<?, ?ba/s]"
      ]
     },
     "metadata": {},
     "output_type": "display_data"
    },
    {
     "data": {
      "application/vnd.jupyter.widget-view+json": {
       "model_id": "4ffeb1bdea884366b3917accd75e00c1",
       "version_major": 2,
       "version_minor": 0
      },
      "text/plain": [
       "Running tokenizer on validation dataset:   0%|          | 0/3 [00:00<?, ?ba/s]"
      ]
     },
     "metadata": {},
     "output_type": "display_data"
    },
    {
     "name": "stderr",
     "output_type": "stream",
     "text": [
      "***** Running training *****\n",
      "  Num examples = 8000\n",
      "  Num Epochs = 5\n",
      "  Instantaneous batch size per device = 128\n",
      "  Total train batch size (w. parallel, distributed & accumulation) = 128\n",
      "  Gradient Accumulation steps = 1\n",
      "  Total optimization steps = 315\n"
     ]
    },
    {
     "data": {
      "text/html": [
       "\n",
       "    <div>\n",
       "      \n",
       "      <progress value='315' max='315' style='width:300px; height:20px; vertical-align: middle;'></progress>\n",
       "      [315/315 01:41, Epoch 5/5]\n",
       "    </div>\n",
       "    <table border=\"1\" class=\"dataframe\">\n",
       "  <thead>\n",
       "    <tr style=\"text-align: left;\">\n",
       "      <th>Epoch</th>\n",
       "      <th>Training Loss</th>\n",
       "      <th>Validation Loss</th>\n",
       "      <th>Bleu</th>\n",
       "      <th>Gen Len</th>\n",
       "    </tr>\n",
       "  </thead>\n",
       "  <tbody>\n",
       "    <tr>\n",
       "      <td>1</td>\n",
       "      <td>5.148100</td>\n",
       "      <td>0.432260</td>\n",
       "      <td>0.000000</td>\n",
       "      <td>2.003000</td>\n",
       "    </tr>\n",
       "    <tr>\n",
       "      <td>2</td>\n",
       "      <td>0.346800</td>\n",
       "      <td>0.211276</td>\n",
       "      <td>0.000000</td>\n",
       "      <td>2.001000</td>\n",
       "    </tr>\n",
       "    <tr>\n",
       "      <td>3</td>\n",
       "      <td>0.256500</td>\n",
       "      <td>0.208629</td>\n",
       "      <td>0.000000</td>\n",
       "      <td>2.000000</td>\n",
       "    </tr>\n",
       "    <tr>\n",
       "      <td>4</td>\n",
       "      <td>0.248500</td>\n",
       "      <td>0.208220</td>\n",
       "      <td>0.000000</td>\n",
       "      <td>2.000000</td>\n",
       "    </tr>\n",
       "    <tr>\n",
       "      <td>5</td>\n",
       "      <td>0.240600</td>\n",
       "      <td>0.207987</td>\n",
       "      <td>0.000000</td>\n",
       "      <td>2.000000</td>\n",
       "    </tr>\n",
       "  </tbody>\n",
       "</table><p>"
      ],
      "text/plain": [
       "<IPython.core.display.HTML object>"
      ]
     },
     "metadata": {},
     "output_type": "display_data"
    },
    {
     "name": "stderr",
     "output_type": "stream",
     "text": [
      "***** Running Evaluation *****\n",
      "  Num examples = 2001\n",
      "  Batch size = 128\n",
      "Saving model checkpoint to /tmp/saved_model/checkpoint-63\n",
      "Configuration saved in /tmp/saved_model/checkpoint-63/config.json\n",
      "Model weights saved in /tmp/saved_model/checkpoint-63/pytorch_model.bin\n",
      "tokenizer config file saved in /tmp/saved_model/checkpoint-63/tokenizer_config.json\n",
      "Special tokens file saved in /tmp/saved_model/checkpoint-63/special_tokens_map.json\n",
      "Copy vocab file to /tmp/saved_model/checkpoint-63/spiece.model\n",
      "Deleting older checkpoint [/tmp/saved_model/checkpoint-189] due to args.save_total_limit\n",
      "***** Running Evaluation *****\n",
      "  Num examples = 2001\n",
      "  Batch size = 128\n",
      "Saving model checkpoint to /tmp/saved_model/checkpoint-126\n",
      "Configuration saved in /tmp/saved_model/checkpoint-126/config.json\n",
      "Model weights saved in /tmp/saved_model/checkpoint-126/pytorch_model.bin\n",
      "tokenizer config file saved in /tmp/saved_model/checkpoint-126/tokenizer_config.json\n",
      "Special tokens file saved in /tmp/saved_model/checkpoint-126/special_tokens_map.json\n",
      "Copy vocab file to /tmp/saved_model/checkpoint-126/spiece.model\n",
      "Deleting older checkpoint [/tmp/saved_model/checkpoint-252] due to args.save_total_limit\n",
      "***** Running Evaluation *****\n",
      "  Num examples = 2001\n",
      "  Batch size = 128\n",
      "Saving model checkpoint to /tmp/saved_model/checkpoint-189\n",
      "Configuration saved in /tmp/saved_model/checkpoint-189/config.json\n",
      "Model weights saved in /tmp/saved_model/checkpoint-189/pytorch_model.bin\n",
      "tokenizer config file saved in /tmp/saved_model/checkpoint-189/tokenizer_config.json\n",
      "Special tokens file saved in /tmp/saved_model/checkpoint-189/special_tokens_map.json\n",
      "Copy vocab file to /tmp/saved_model/checkpoint-189/spiece.model\n",
      "Deleting older checkpoint [/tmp/saved_model/checkpoint-63] due to args.save_total_limit\n",
      "***** Running Evaluation *****\n",
      "  Num examples = 2001\n",
      "  Batch size = 128\n",
      "Saving model checkpoint to /tmp/saved_model/checkpoint-252\n",
      "Configuration saved in /tmp/saved_model/checkpoint-252/config.json\n",
      "Model weights saved in /tmp/saved_model/checkpoint-252/pytorch_model.bin\n",
      "tokenizer config file saved in /tmp/saved_model/checkpoint-252/tokenizer_config.json\n",
      "Special tokens file saved in /tmp/saved_model/checkpoint-252/special_tokens_map.json\n",
      "Copy vocab file to /tmp/saved_model/checkpoint-252/spiece.model\n",
      "Deleting older checkpoint [/tmp/saved_model/checkpoint-126] due to args.save_total_limit\n",
      "***** Running Evaluation *****\n",
      "  Num examples = 2001\n",
      "  Batch size = 128\n",
      "Saving model checkpoint to /tmp/saved_model/checkpoint-315\n",
      "Configuration saved in /tmp/saved_model/checkpoint-315/config.json\n",
      "Model weights saved in /tmp/saved_model/checkpoint-315/pytorch_model.bin\n",
      "tokenizer config file saved in /tmp/saved_model/checkpoint-315/tokenizer_config.json\n",
      "Special tokens file saved in /tmp/saved_model/checkpoint-315/special_tokens_map.json\n",
      "Copy vocab file to /tmp/saved_model/checkpoint-315/spiece.model\n",
      "Deleting older checkpoint [/tmp/saved_model/checkpoint-189] due to args.save_total_limit\n",
      "\n",
      "\n",
      "Training completed. Do not forget to share your model on huggingface.co/models =)\n",
      "\n",
      "\n",
      "Saving model checkpoint to /tmp/saved_model\n",
      "Configuration saved in /tmp/saved_model/config.json\n",
      "Model weights saved in /tmp/saved_model/pytorch_model.bin\n",
      "tokenizer config file saved in /tmp/saved_model/tokenizer_config.json\n",
      "Special tokens file saved in /tmp/saved_model/special_tokens_map.json\n",
      "Copy vocab file to /tmp/saved_model/spiece.model\n"
     ]
    },
    {
     "name": "stdout",
     "output_type": "stream",
     "text": [
      "***** train metrics *****\n",
      "  epoch                    =        5.0\n",
      "  total_flos               =  1280163GF\n",
      "  train_loss               =     1.2481\n",
      "  train_runtime            = 0:01:42.09\n",
      "  train_samples            =       8000\n",
      "  train_samples_per_second =    391.796\n",
      "  train_steps_per_second   =      3.085\n"
     ]
    }
   ],
   "source": [
    "trainer.train(valid=True)"
   ]
  },
  {
   "cell_type": "markdown",
   "id": "c59b64cb",
   "metadata": {},
   "source": [
    "### Test Model"
   ]
  },
  {
   "cell_type": "code",
   "execution_count": 5,
   "id": "5fd3f3e3",
   "metadata": {},
   "outputs": [
    {
     "data": {
      "text/plain": [
       "'negative'"
      ]
     },
     "execution_count": 5,
     "metadata": {},
     "output_type": "execute_result"
    }
   ],
   "source": [
    "input_text = \"predict sentiment: This is the worst movie I have ever seen!\"\n",
    "trainer.generate_single(input_text, max_length=8)"
   ]
  },
  {
   "cell_type": "code",
   "execution_count": 6,
   "id": "4c4a9c4a",
   "metadata": {},
   "outputs": [
    {
     "data": {
      "text/plain": [
       "'positive'"
      ]
     },
     "execution_count": 6,
     "metadata": {},
     "output_type": "execute_result"
    }
   ],
   "source": [
    "input_text = \"predict sentiment: This is the best movie I have ever seen!\"\n",
    "trainer.generate_single(input_text, max_length=8)"
   ]
  },
  {
   "cell_type": "code",
   "execution_count": null,
   "id": "94c8426d",
   "metadata": {},
   "outputs": [],
   "source": []
  }
 ],
 "metadata": {
  "kernelspec": {
   "display_name": "Python 3 (ipykernel)",
   "language": "python",
   "name": "python3"
  },
  "language_info": {
   "codemirror_mode": {
    "name": "ipython",
    "version": 3
   },
   "file_extension": ".py",
   "mimetype": "text/x-python",
   "name": "python",
   "nbconvert_exporter": "python",
   "pygments_lexer": "ipython3",
   "version": "3.8.10"
  }
 },
 "nbformat": 4,
 "nbformat_minor": 5
}
