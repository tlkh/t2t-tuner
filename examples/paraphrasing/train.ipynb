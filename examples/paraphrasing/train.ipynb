{
 "cells": [
  {
   "cell_type": "markdown",
   "id": "8f4687fc",
   "metadata": {},
   "source": [
    "## TLDR\n",
    "\n",
    "A simple example (sentiment analysis task)"
   ]
  },
  {
   "cell_type": "code",
   "execution_count": 1,
   "id": "dbcd1527",
   "metadata": {},
   "outputs": [],
   "source": [
    "import t2t"
   ]
  },
  {
   "cell_type": "code",
   "execution_count": 2,
   "id": "771a8138",
   "metadata": {},
   "outputs": [
    {
     "name": "stderr",
     "output_type": "stream",
     "text": [
      "Using custom data configuration default-3f2a2b39dc542a49\n",
      "Reusing dataset json (/workspace/cache/json/default-3f2a2b39dc542a49/0.0.0/d75ead8d5cfcbe67495df0f89bd262f0023257fbbbd94a730313295f3d756d50)\n"
     ]
    },
    {
     "data": {
      "application/vnd.jupyter.widget-view+json": {
       "model_id": "d11c33599b974f7e87762c92ee35fd88",
       "version_major": 2,
       "version_minor": 0
      },
      "text/plain": [
       "  0%|          | 0/2 [00:00<?, ?it/s]"
      ]
     },
     "metadata": {},
     "output_type": "display_data"
    },
    {
     "name": "stdout",
     "output_type": "stream",
     "text": [
      "Loading t5-3b (for large models, this might take a while)\n",
      "Files will be cached at: /workspace/cache\n",
      "Ensure this directory is persistent if you do not want to download model files again!\n"
     ]
    },
    {
     "data": {
      "application/vnd.jupyter.widget-view+json": {
       "model_id": "7a5dbf1488b544f19c65c009f55a13c7",
       "version_major": 2,
       "version_minor": 0
      },
      "text/plain": [
       "Downloading:   0%|          | 0.00/1.20k [00:00<?, ?B/s]"
      ]
     },
     "metadata": {},
     "output_type": "display_data"
    },
    {
     "data": {
      "application/vnd.jupyter.widget-view+json": {
       "model_id": "98585eaecee64c9081f8d13eda5cfbaa",
       "version_major": 2,
       "version_minor": 0
      },
      "text/plain": [
       "Downloading:   0%|          | 0.00/792k [00:00<?, ?B/s]"
      ]
     },
     "metadata": {},
     "output_type": "display_data"
    },
    {
     "data": {
      "application/vnd.jupyter.widget-view+json": {
       "model_id": "12881aff658b4e54972c7bd408e55433",
       "version_major": 2,
       "version_minor": 0
      },
      "text/plain": [
       "Downloading:   0%|          | 0.00/1.39M [00:00<?, ?B/s]"
      ]
     },
     "metadata": {},
     "output_type": "display_data"
    },
    {
     "data": {
      "application/vnd.jupyter.widget-view+json": {
       "model_id": "c0ae9a69ac754b8c80cb9eae2fa99fb8",
       "version_major": 2,
       "version_minor": 0
      },
      "text/plain": [
       "Downloading:   0%|          | 0.00/1.20k [00:00<?, ?B/s]"
      ]
     },
     "metadata": {},
     "output_type": "display_data"
    },
    {
     "data": {
      "application/vnd.jupyter.widget-view+json": {
       "model_id": "ed903139fa744e18899f1402c0147eac",
       "version_major": 2,
       "version_minor": 0
      },
      "text/plain": [
       "Downloading:   0%|          | 0.00/11.4G [00:00<?, ?B/s]"
      ]
     },
     "metadata": {},
     "output_type": "display_data"
    }
   ],
   "source": [
    "trainer_arguments = t2t.TrainerArguments(\n",
    "    # model\n",
    "    model_name_or_path=\"t5-large\",\n",
    "    cache_dir=\"/workspace/cache\",\n",
    "    # data inputs\n",
    "    train_file=\"./trainlines.json\",\n",
    "    validation_file=\"./validlines.json\",\n",
    "    max_source_length=64,\n",
    "    max_target_length=64,\n",
    "    source_id=\"en\",\n",
    "    target_id=\"pa\",\n",
    "    # taining outputs\n",
    "    output_dir=\"./t5_large_paraphrase\",\n",
    "    overwrite_output_dir=True,\n",
    "    # training settings\n",
    "    num_train_epochs=5,\n",
    "    per_device_train_batch_size=16,\n",
    "    learning_rate=1e-5,\n",
    "    prefix=\"paraphrase: \",\n",
    "    # validation settings\n",
    "    per_device_eval_batch_size=16,\n",
    "    evaluation_strategy=\"epoch\",\n",
    ")\n",
    "trainer = t2t.Trainer(arguments=trainer_arguments)"
   ]
  },
  {
   "cell_type": "code",
   "execution_count": 3,
   "id": "38b3c744",
   "metadata": {},
   "outputs": [
    {
     "name": "stdout",
     "output_type": "stream",
     "text": [
      "Summary\n",
      "=======\n",
      "- model name: t5-3b\n",
      "- model params:\n",
      "  - train: 2851.6 M\n",
      "  - total: 2851.6 M\n",
      "  - vocab: 32100\n",
      "- prompt tuning only: False\n"
     ]
    }
   ],
   "source": [
    "trainer.model_summary()"
   ]
  },
  {
   "cell_type": "markdown",
   "id": "4481e5e1",
   "metadata": {},
   "source": [
    "### Train Model"
   ]
  },
  {
   "cell_type": "code",
   "execution_count": null,
   "id": "cf032be2",
   "metadata": {},
   "outputs": [],
   "source": [
    "trainer.train(valid=True)"
   ]
  },
  {
   "cell_type": "markdown",
   "id": "93878ad6",
   "metadata": {},
   "source": [
    "### Test Model"
   ]
  },
  {
   "cell_type": "code",
   "execution_count": null,
   "id": "e450e18b",
   "metadata": {},
   "outputs": [],
   "source": [
    "input_text = \"paraphrase: At the supermarket on Monday, Tom met Ben.\"\n",
    "trainer.generate_diverse(input_text, max_length=64)"
   ]
  },
  {
   "cell_type": "code",
   "execution_count": null,
   "id": "19933f5b",
   "metadata": {},
   "outputs": [],
   "source": [
    "input_text = \"paraphrase: When running, be careful not to slip on the wet floor.\"\n",
    "trainer.generate_diverse(input_text, max_length=64)"
   ]
  },
  {
   "cell_type": "code",
   "execution_count": null,
   "id": "0a244bc8",
   "metadata": {},
   "outputs": [],
   "source": []
  }
 ],
 "metadata": {
  "kernelspec": {
   "display_name": "Python 3 (ipykernel)",
   "language": "python",
   "name": "python3"
  },
  "language_info": {
   "codemirror_mode": {
    "name": "ipython",
    "version": 3
   },
   "file_extension": ".py",
   "mimetype": "text/x-python",
   "name": "python",
   "nbconvert_exporter": "python",
   "pygments_lexer": "ipython3",
   "version": "3.8.10"
  }
 },
 "nbformat": 4,
 "nbformat_minor": 5
}
